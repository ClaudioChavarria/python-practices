{
 "cells": [
  {
   "cell_type": "markdown",
   "metadata": {},
   "source": [
    "### Random number generation in Python using Numpy"
   ]
  },
  {
   "cell_type": "markdown",
   "metadata": {},
   "source": [
    "**Random numbers between 0 and 1:**\n",
    "\n",
    "This type of data generation is useful in machine learning applications for initializing weights randomly in neural networks or for creating synthetic training datasets."
   ]
  },
  {
   "cell_type": "code",
   "execution_count": 185,
   "metadata": {},
   "outputs": [
    {
     "name": "stdout",
     "output_type": "stream",
     "text": [
      "0.5901774692235807\n",
      "[0.14355602 0.27305608 0.9935317  0.50455294 0.90887833]\n"
     ]
    }
   ],
   "source": [
    "import numpy as np\n",
    "random_number = np.random.rand()\n",
    "print(random_number)\n",
    "\n",
    "random_numbers = np.random.rand(5)\n",
    "print(random_numbers)\n"
   ]
  },
  {
   "cell_type": "markdown",
   "metadata": {},
   "source": [
    "**Random numbers between 0 and 1:**"
   ]
  },
  {
   "cell_type": "markdown",
   "metadata": {},
   "source": [
    "This type of data generation is useful in machine learning applications for initializing weights randomly in neural networks or for creating synthetic training datasets."
   ]
  },
  {
   "cell_type": "code",
   "execution_count": 186,
   "metadata": {},
   "outputs": [
    {
     "name": "stdout",
     "output_type": "stream",
     "text": [
      "0.36795839397543684\n",
      "[0.01555628 0.69901499 0.44462373 0.57689624 0.50790487]\n"
     ]
    }
   ],
   "source": [
    "import numpy as np\n",
    "random_number = np.random.rand()\n",
    "print(random_number)\n",
    "\n",
    "random_numbers = np.random.rand(5)\n",
    "print(random_numbers)\n"
   ]
  },
  {
   "cell_type": "markdown",
   "metadata": {},
   "source": [
    "**Random integers within a specific range:**"
   ]
  },
  {
   "cell_type": "markdown",
   "metadata": {},
   "source": [
    "Commonly used to simulate category data, such as user age or the number of visits to a website."
   ]
  },
  {
   "cell_type": "code",
   "execution_count": 187,
   "metadata": {},
   "outputs": [
    {
     "name": "stdout",
     "output_type": "stream",
     "text": [
      "95\n",
      "[46 34 82 46 66 69 66  1 47  5]\n"
     ]
    }
   ],
   "source": [
    "random_integer = np.random.randint(1, 100)\n",
    "print(random_integer)\n",
    "random_integers = np.random.randint(1, 100, size=10)\n",
    "print(random_integers)\n"
   ]
  },
  {
   "cell_type": "markdown",
   "metadata": {},
   "source": [
    "**Random numbers with normal (Gaussian) distribution:**\n",
    "\n",
    "Useful in machine learning applications for generating features with normal distribution, such as the height of a population."
   ]
  },
  {
   "cell_type": "code",
   "execution_count": 189,
   "metadata": {},
   "outputs": [
    {
     "name": "stdout",
     "output_type": "stream",
     "text": [
      "0.42443897353766213\n",
      "[-1.30241915 -0.70921989 -0.21064275  0.57345427 -0.4120465  -1.9148519\n",
      "  0.16553519 -0.24657842 -0.05760742  0.55546693]\n"
     ]
    }
   ],
   "source": [
    "random_normal = np.random.randn()\n",
    "print(random_normal)\n",
    "\n",
    "random_normals = np.random.randn(10)\n",
    "print(random_normals)\n"
   ]
  },
  {
   "cell_type": "markdown",
   "metadata": {},
   "source": [
    "**Random numbers with uniform distribution:**\n",
    "\n",
    "Can be used to generate input data for machine learning models when there is suspected to be no dependency relationship."
   ]
  },
  {
   "cell_type": "code",
   "execution_count": 191,
   "metadata": {},
   "outputs": [
    {
     "name": "stdout",
     "output_type": "stream",
     "text": [
      "0.8428462746151366\n",
      "[0.34243968 0.50394423 0.84656002 0.53712222 0.27150258 0.6016902\n",
      " 0.89884238 0.24188466 0.2055699  0.27004801]\n"
     ]
    }
   ],
   "source": [
    "random_uniform = np.random.uniform(0, 1)\n",
    "print(random_uniform)\n",
    "\n",
    "random_uniforms = np.random.uniform(0, 1, size=10)\n",
    "print(random_uniforms)\n"
   ]
  },
  {
   "cell_type": "markdown",
   "metadata": {},
   "source": [
    "**Random permutation of an array:**\n",
    "\n",
    "Useful for cross-validation in machine learning models, where the dataset needs to be randomly divided into training and testing groups."
   ]
  },
  {
   "cell_type": "code",
   "execution_count": 192,
   "metadata": {},
   "outputs": [
    {
     "name": "stdout",
     "output_type": "stream",
     "text": [
      "[3 2 5 4 1]\n"
     ]
    }
   ],
   "source": [
    "original_array = np.array([1, 2, 3, 4, 5])\n",
    "np.random.shuffle(original_array)\n",
    "print(original_array)\n"
   ]
  },
  {
   "cell_type": "markdown",
   "metadata": {},
   "source": [
    "**Random choice of elements from an array:**\n",
    "\n",
    "Can be used to create random training datasets or for random sampling in model evaluation."
   ]
  },
  {
   "cell_type": "code",
   "execution_count": 193,
   "metadata": {},
   "outputs": [
    {
     "name": "stdout",
     "output_type": "stream",
     "text": [
      "b\n",
      "['d' 'e' 'b']\n"
     ]
    }
   ],
   "source": [
    "options = ['a', 'b', 'c', 'd', 'e']\n",
    "random_choice = np.random.choice(options)\n",
    "print(random_choice)\n",
    "\n",
    "choices = np.random.choice(options, size=3, replace=False)\n",
    "print(choices)\n"
   ]
  },
  {
   "cell_type": "markdown",
   "metadata": {},
   "source": [
    "**Shuffling data from multiple arrays simultaneously:**\n",
    "\n",
    "Useful when maintaining correspondence between input data and output data in a dataset."
   ]
  },
  {
   "cell_type": "code",
   "execution_count": 194,
   "metadata": {},
   "outputs": [
    {
     "name": "stdout",
     "output_type": "stream",
     "text": [
      "[4 1 2 5 3]\n",
      "['a' 'd' 'e' 'c' 'b']\n"
     ]
    }
   ],
   "source": [
    "array1 = np.array([1, 2, 3, 4, 5])\n",
    "array2 = np.array(['a', 'b', 'c', 'd', 'e'])\n",
    "np.random.shuffle(array1)\n",
    "np.random.shuffle(array2)\n",
    "print(array1)\n",
    "print(array2)\n"
   ]
  },
  {
   "cell_type": "markdown",
   "metadata": {},
   "source": [
    "**Generating random numbers using a seed:**\n",
    "\n",
    "Useful when reproducibility in random number generation is desired, which is crucial in scientific experiments and model validation.\n"
   ]
  },
  {
   "cell_type": "code",
   "execution_count": 195,
   "metadata": {},
   "outputs": [
    {
     "name": "stdout",
     "output_type": "stream",
     "text": [
      "0.3745401188473625 0.3745401188473625\n"
     ]
    }
   ],
   "source": [
    "np.random.seed(42)\n",
    "random_number1 = np.random.rand()\n",
    "np.random.seed(42)  # Reset the seed\n",
    "random_number2 = np.random.rand()\n",
    "print(random_number1, random_number2)\n"
   ]
  },
  {
   "cell_type": "markdown",
   "metadata": {},
   "source": [
    "**Unique random integers:**\n",
    "\n",
    "Useful when needing random indices for sampling from a dataset without replacement."
   ]
  },
  {
   "cell_type": "code",
   "execution_count": 196,
   "metadata": {},
   "outputs": [
    {
     "name": "stdout",
     "output_type": "stream",
     "text": [
      "[84 55 66 67 45 39 22 44 10  0]\n"
     ]
    }
   ],
   "source": [
    "unique_numbers = np.random.choice(100, 10, replace=False)\n",
    "print(unique_numbers)"
   ]
  },
  {
   "cell_type": "markdown",
   "metadata": {},
   "source": [
    "**Generating random matrices:**\n",
    "\n",
    "Used in various machine learning applications, such as initializing weight matrices in machine learning algorithms."
   ]
  },
  {
   "cell_type": "code",
   "execution_count": 197,
   "metadata": {},
   "outputs": [
    {
     "name": "stdout",
     "output_type": "stream",
     "text": [
      "[[0.1988424  0.71134195 0.79017554]\n",
      " [0.60595997 0.92630088 0.65107703]\n",
      " [0.91495968 0.85003858 0.44945067]]\n"
     ]
    }
   ],
   "source": [
    "random_matrix = np.random.rand(3, 3)\n",
    "print(random_matrix)\n"
   ]
  }
 ],
 "metadata": {
  "kernelspec": {
   "display_name": "Python 3 (ipykernel)",
   "language": "python",
   "name": "python3"
  },
  "language_info": {
   "codemirror_mode": {
    "name": "ipython",
    "version": 3
   },
   "file_extension": ".py",
   "mimetype": "text/x-python",
   "name": "python",
   "nbconvert_exporter": "python",
   "pygments_lexer": "ipython3",
   "version": "3.11.5"
  }
 },
 "nbformat": 4,
 "nbformat_minor": 2
}
