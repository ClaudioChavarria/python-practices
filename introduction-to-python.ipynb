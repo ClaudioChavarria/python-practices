{
 "cells": [
  {
   "cell_type": "markdown",
   "metadata": {},
   "source": [
    "# INTRODUCTION TO PYTHON"
   ]
  },
  {
   "cell_type": "markdown",
   "metadata": {},
   "source": [
    "## What is Python?\n",
    "\n",
    "Python is a high-level programming language known for its simplicity and readability. It was created by Guido van Rossum and first released in 1991. \n",
    "\n",
    "Python supports multiple programming paradigms, including procedural, object-oriented, and functional programming styles. It has a comprehensive standard library that provides support for various tasks such as string processing, networking, web development, and more.\n",
    "\n",
    "In **data science**, Python is one of the most popular programming languages due to its versatility, simplicity, and the vast ecosystem of libraries and tools available for data manipulation, analysis, and visualization."
   ]
  },
  {
   "cell_type": "markdown",
   "metadata": {},
   "source": [
    "### `print() function`\n",
    "The **print()** function in Python is used to display information in the standard output, which is typically the console or terminal where the program is running. \n",
    "The **print()** function is a useful tool for debugging, displaying results, and providing information to users while a program is running in Python."
   ]
  },
  {
   "cell_type": "markdown",
   "metadata": {},
   "source": [
    "#### Basic Usage: \n",
    "You can use print() to display text, numbers, or other data types in the console."
   ]
  },
  {
   "cell_type": "code",
   "execution_count": 62,
   "metadata": {},
   "outputs": [
    {
     "name": "stdout",
     "output_type": "stream",
     "text": [
      "Hello, World\n"
     ]
    }
   ],
   "source": [
    "print(\"Hello, World\")"
   ]
  },
  {
   "cell_type": "markdown",
   "metadata": {},
   "source": [
    "#### Printing Multiple Values: \n",
    "You can print multiple values separated by commas."
   ]
  },
  {
   "cell_type": "code",
   "execution_count": 63,
   "metadata": {},
   "outputs": [
    {
     "name": "stdout",
     "output_type": "stream",
     "text": [
      "Name:  Claudio , Last name:  Chavarria\n",
      "Name: Claudio Age: 25\n"
     ]
    }
   ],
   "source": [
    "# Example 1\n",
    "print(\"Name: \", \"Claudio\", \", Last name: \", \"Chavarria\" )\n",
    "# Example 2\n",
    "name = \"Claudio\"\n",
    "age = 25\n",
    "print(\"Name:\", name, \"Age:\", age)\n"
   ]
  },
  {
   "cell_type": "markdown",
   "metadata": {},
   "source": [
    "### String Formatting: \n",
    "You can format the output using string formatting or f-strings (in Python 3.6 and later)."
   ]
  },
  {
   "cell_type": "code",
   "execution_count": 64,
   "metadata": {},
   "outputs": [
    {
     "name": "stdout",
     "output_type": "stream",
     "text": [
      "3.142\n",
      "3.1416\n",
      "3\n"
     ]
    }
   ],
   "source": [
    "# display pi using string formatting \n",
    "pi = 3.14159\n",
    "\n",
    "# Example 1: Display pi with three decimals\n",
    "print(\"{:.3f}\".format(pi))\n",
    "# Output: 3.142\n",
    "\n",
    "# Example 2: Display pi with four decimals\n",
    "print(\"{:.4f}\".format(pi))\n",
    "# Output: 3.1416\n",
    "\n",
    "# Example 4: Display pi with zero decimals\n",
    "print(\"{:.0f}\".format(pi))\n",
    "# Output: 3"
   ]
  },
  {
   "cell_type": "markdown",
   "metadata": {},
   "source": [
    "### Parameters of the print() function:"
   ]
  },
  {
   "cell_type": "markdown",
   "metadata": {},
   "source": [
    "**In the print() function, the parameters are:**\n",
    "\n",
    "**objects:** Represents the objects to be printed. You can pass one or more objects separated by commas.\n",
    "\n",
    "**sep:** Specifies the separator between the objects being printed. It's used to join the objects together when they are printed.\n",
    "\n",
    "**end:** Specifies what to print at the end. By default, end is set to '\\n', which means a newline character is printed at the end of the output.\n",
    "\n",
    "**file:** Specifies the file object where the output will be printed. By default, the output is printed to the console (sys.stdout).\n",
    "\n",
    "**flush:** Specifies whether the output buffer should be flushed.\n"
   ]
  },
  {
   "cell_type": "markdown",
   "metadata": {},
   "source": [
    "### Separator and End Parameter: \n",
    "You can specify the separator between the elements to be printed and the end parameter at the end."
   ]
  },
  {
   "cell_type": "code",
   "execution_count": 65,
   "metadata": {},
   "outputs": [
    {
     "name": "stdout",
     "output_type": "stream",
     "text": [
      "Data, Science!\n"
     ]
    }
   ],
   "source": [
    "print(\"Data\", \"Science\", sep=\", \",  end=\"!\\n\" )\n",
    "\n",
    "# end=\"!\\n\": This is another optional parameter of the `print()` function. \n",
    "# It determines what will be printed at the end of the line. By default, \n",
    "# print() prints a new line (`\\n`) at the end of each call."
   ]
  },
  {
   "cell_type": "markdown",
   "metadata": {},
   "source": [
    "### Printing Without Newline: \n",
    "By default, print() adds a newline at the end. You can avoid this using the end parameter."
   ]
  },
  {
   "cell_type": "code",
   "execution_count": 66,
   "metadata": {},
   "outputs": [
    {
     "name": "stdout",
     "output_type": "stream",
     "text": [
      "Data Science\n"
     ]
    }
   ],
   "source": [
    "print(\"Data\", end=\" \")\n",
    "print(\"Science\")\n"
   ]
  },
  {
   "cell_type": "markdown",
   "metadata": {},
   "source": [
    "### File and flush parameters"
   ]
  },
  {
   "cell_type": "code",
   "execution_count": 67,
   "metadata": {},
   "outputs": [],
   "source": [
    "#Open a new file named \"output.txt\" in writing mode\n",
    "with open(\"output.txt\", \"w\") as f:\n",
    "#write the following text in the file \"output.txt\"    \n",
    "    print(\"Machine, Learning!\", file=f)\n"
   ]
  },
  {
   "cell_type": "code",
   "execution_count": 68,
   "metadata": {},
   "outputs": [
    {
     "name": "stdout",
     "output_type": "stream",
     "text": [
      "Statistic\n",
      "Learning\n"
     ]
    }
   ],
   "source": [
    "# The flush parameter controls whether the output buffer should be forced to be flushed after printing. \n",
    "# When flush is set to True, the output is flushed immediately after printing.\n",
    "print(\"Statistic\", flush=True)\n",
    "print(\"Learning\")\n"
   ]
  },
  {
   "cell_type": "code",
   "execution_count": 69,
   "metadata": {},
   "outputs": [
    {
     "name": "stdout",
     "output_type": "stream",
     "text": [
      "Machine\n",
      "Learning\n"
     ]
    }
   ],
   "source": [
    "import time\n",
    "\n",
    "print(\"Machine\", flush=True)\n",
    "time.sleep(2)  # Espera 2 segundos\n",
    "print(\"Learning\")"
   ]
  },
  {
   "cell_type": "markdown",
   "metadata": {},
   "source": [
    "### Basic Operations - Arithmetic\n",
    "**In python , arithmetic operations include:**\n",
    "\n",
    "**Addition (`+`):** It is an operation that adds two operands to obtain a result.\n",
    "\n",
    "**Subtraction (`-`):** It is an operation that subtracts the second operand from the first to obtain a result.\n",
    "\n",
    "**Multiplication (`*`):** It is an operation that multiplies two operands to obtain a result.\n",
    "\n",
    "**Division (`/`):** It is an operation that divides the first operand by the second to obtain a result.\n",
    "\n",
    "**Module (`%`):** It is an operation that returns the remainder of the division of the first operand by the second.\n",
    "\n",
    "**Exponentiation (`**`):** It is an operation that raises the first operand to the power of the second operand to obtain a result.\n",
    "\n",
    "**Floor Division (`//`):** It is an operation that divides the first operand by the second and returns the result as an integer, truncating any decimal part."
   ]
  },
  {
   "cell_type": "code",
   "execution_count": 70,
   "metadata": {},
   "outputs": [
    {
     "name": "stdout",
     "output_type": "stream",
     "text": [
      "Addition:  52.5\n",
      "Subtraction:  48.5\n",
      "Multiplication:  101.0\n",
      "Division: 25.25\n",
      "Module: 0.5\n",
      "Exponentiation: 2550.25\n",
      "Floor Division: 25.0\n"
     ]
    }
   ],
   "source": [
    "# Define two numbers\n",
    "a = 50.5\n",
    "b = 2\n",
    "# Addition\n",
    "addition = a + b\n",
    "print (\"Addition: \" , addition)\n",
    "# Subtraction\n",
    "Subtraction = a - b\n",
    "print (\"Subtraction: \" , Subtraction)\n",
    "# Multiplication\n",
    "Multiplication = a * b\n",
    "print (\"Multiplication: \" , Multiplication)\n",
    "# Division\n",
    "division = a / b\n",
    "print(\"Division:\", division)\n",
    "# Modulus\n",
    "module = a % b\n",
    "print(\"Module:\", module)\n",
    "# Exponentiation\n",
    "exponentiation = a ** b\n",
    "print(\"Exponentiation:\", exponentiation)\n",
    "floor_division = a // b\n",
    "print(\"Floor Division:\", floor_division)"
   ]
  },
  {
   "cell_type": "markdown",
   "metadata": {},
   "source": [
    "### Variables and Types"
   ]
  },
  {
   "cell_type": "markdown",
   "metadata": {},
   "source": [
    "In python, a variable is a name used to reference a value in memory.\n",
    "These values can be number, text strings, lists, dictionaries, or other types of data.\n",
    "variables in Python are defined and assigned using the \"=\" assignment operator, and do not need to be declared with a specific type."
   ]
  },
  {
   "cell_type": "markdown",
   "metadata": {},
   "source": [
    "#### Suppose you measure your height and weight, un metric units:\n",
    "`1.70 m - 68.7 kg`.\n",
    "You can assign these values to two variables, named height and weight:\n"
   ]
  },
  {
   "cell_type": "code",
   "execution_count": 71,
   "metadata": {},
   "outputs": [
    {
     "name": "stdout",
     "output_type": "stream",
     "text": [
      "23.771626297577857\n"
     ]
    }
   ],
   "source": [
    "height = 1.70\n",
    "weight = 68.7\n",
    "# TO calculate the BMI you have:\n",
    "BMI = weight / height **2\n",
    "print(BMI)"
   ]
  },
  {
   "cell_type": "markdown",
   "metadata": {},
   "source": [
    "### How can you know the type of data?"
   ]
  },
  {
   "cell_type": "markdown",
   "metadata": {},
   "source": [
    "The type() function in Python is used to determine the type of an object. It returns the type of the object as a result"
   ]
  },
  {
   "cell_type": "markdown",
   "metadata": {},
   "source": [
    "#### Data Types in Python \n",
    "- Integers (`int`)\n",
    "- Floats (`float`)\n",
    "- Strings (`str`)\n",
    "- Booleans (`bool`)\n",
    "- Lists (`list`)\n",
    "- Tuples (`tuple`)\n",
    "- Dictionaries (`dict`)\n",
    "- Sets (`set`)\n",
    "\n",
    "**Integers (`int`):** Integers represent whole numbers without any decimal points. They can be positive or negative."
   ]
  },
  {
   "cell_type": "code",
   "execution_count": 72,
   "metadata": {},
   "outputs": [
    {
     "name": "stdout",
     "output_type": "stream",
     "text": [
      "<class 'int'>\n"
     ]
    }
   ],
   "source": [
    "# Integers (int)\n",
    "x = 10\n",
    "print(type(x))  "
   ]
  },
  {
   "cell_type": "markdown",
   "metadata": {},
   "source": [
    "**Floats (`float`):** Floats represent real numbers with a decimal point or an exponent notation. They can represent fractional values."
   ]
  },
  {
   "cell_type": "code",
   "execution_count": 73,
   "metadata": {},
   "outputs": [
    {
     "name": "stdout",
     "output_type": "stream",
     "text": [
      "<class 'float'>\n"
     ]
    }
   ],
   "source": [
    "# Floats (float)\n",
    "y = 3.14\n",
    "print(type(y))"
   ]
  },
  {
   "cell_type": "markdown",
   "metadata": {},
   "source": [
    "**Strings (`str`):** Strings are sequences of characters, enclosed within single (' '), double (\" \"), or triple (''' ''' or \"\"\" \"\"\") quotes. They are used to represent text data."
   ]
  },
  {
   "cell_type": "code",
   "execution_count": 74,
   "metadata": {},
   "outputs": [
    {
     "name": "stdout",
     "output_type": "stream",
     "text": [
      "<class 'str'>\n"
     ]
    }
   ],
   "source": [
    "# Strings (str)\n",
    "s = \"Hello, world!\"\n",
    "print(type(s)) "
   ]
  },
  {
   "cell_type": "markdown",
   "metadata": {},
   "source": [
    "**Booleans (`bool`):** Booleans represent one of two values: True or False. They are often used in conditional expressions and logical operations."
   ]
  },
  {
   "cell_type": "code",
   "execution_count": 75,
   "metadata": {},
   "outputs": [
    {
     "name": "stdout",
     "output_type": "stream",
     "text": [
      "<class 'bool'>\n",
      "<class 'bool'>\n"
     ]
    }
   ],
   "source": [
    "# Booleans (bool)\n",
    "a = True\n",
    "b = False\n",
    "print(type(a)) \n",
    "print(type(b)) "
   ]
  },
  {
   "cell_type": "markdown",
   "metadata": {},
   "source": [
    "**Lists (`list`):** Lists are ordered collections of items. They can contain elements of different data types and are mutable, meaning their elements can be modified after creation"
   ]
  },
  {
   "cell_type": "code",
   "execution_count": 76,
   "metadata": {},
   "outputs": [
    {
     "name": "stdout",
     "output_type": "stream",
     "text": [
      "<class 'list'>\n"
     ]
    }
   ],
   "source": [
    "# Lists (list)\n",
    "list = [1, 2, 3, 4, 5]\n",
    "print(type(list))  # <class 'list'>"
   ]
  },
  {
   "cell_type": "markdown",
   "metadata": {},
   "source": [
    "**Tuples (`tuple`):** Tuples are ordered collections similar to lists, but they are immutable, meaning their elements cannot be changed after creation. They are often used to store related pieces of data."
   ]
  },
  {
   "cell_type": "code",
   "execution_count": 77,
   "metadata": {},
   "outputs": [
    {
     "name": "stdout",
     "output_type": "stream",
     "text": [
      "<class 'tuple'>\n"
     ]
    }
   ],
   "source": [
    "# Tuples (tuple)\n",
    "tuple = (1, 2, 3)\n",
    "print(type(tuple))"
   ]
  },
  {
   "cell_type": "markdown",
   "metadata": {},
   "source": [
    "**Dictionaries (`dict`):** Dictionaries are unordered collections of key-value pairs. Each key is associated with a value, and they provide a way to store and retrieve data efficiently based on a unique key."
   ]
  },
  {
   "cell_type": "code",
   "execution_count": 78,
   "metadata": {},
   "outputs": [
    {
     "name": "stdout",
     "output_type": "stream",
     "text": [
      "<class 'dict'>\n"
     ]
    }
   ],
   "source": [
    "# Dictionaries (dict)\n",
    "diccionary = {\"a\": 1, \"b\": 2, \"c\": 3}\n",
    "print(type(diccionary))"
   ]
  },
  {
   "cell_type": "markdown",
   "metadata": {},
   "source": [
    "**Sets (`set`):** Sets are unordered collections of unique elements. They are useful for tasks that involve mathematical operations like union, intersection, and difference between sets. Sets do not allow duplicate elements. "
   ]
  },
  {
   "cell_type": "code",
   "execution_count": 79,
   "metadata": {},
   "outputs": [
    {
     "name": "stdout",
     "output_type": "stream",
     "text": [
      "<class 'set'>\n"
     ]
    }
   ],
   "source": [
    "# Sets (set)\n",
    "Number_set = {1, 2, 3}\n",
    "print(type(Number_set))"
   ]
  },
  {
   "cell_type": "markdown",
   "metadata": {},
   "source": [
    "## Introduction to Lists\n",
    "In Python, a list is a built-in data structure that allows you to store a collection of items. Lists are ordered, mutable (modifiable), and can contain elements of different data types, including numbers, strings, and even other lists. Lists are defined by enclosing comma-separated values within square \n",
    "brackets [ ].\n",
    "\n",
    "Mutable means that you can modify the list after creating it, you can add, remove or modify elements.\n"
   ]
  },
  {
   "cell_type": "code",
   "execution_count": 80,
   "metadata": {},
   "outputs": [
    {
     "name": "stdout",
     "output_type": "stream",
     "text": [
      "[1, 2, 3, 4, 5]\n"
     ]
    }
   ],
   "source": [
    "my_list = [1, 2, 3, 4, 5]\n",
    "print(my_list)"
   ]
  },
  {
   "cell_type": "code",
   "execution_count": 81,
   "metadata": {},
   "outputs": [
    {
     "name": "stdout",
     "output_type": "stream",
     "text": [
      "[[1, 2, 3], [4, 5, 6], [7, 8, 9]]\n"
     ]
    }
   ],
   "source": [
    "nested_list = [[1, 2, 3], [4, 5, 6], [7, 8, 9]]\n",
    "print(nested_list)"
   ]
  },
  {
   "cell_type": "markdown",
   "metadata": {},
   "source": [
    "### Accesing elements of a list\n",
    "\n",
    "You can access the elements of a list using its index, which is a number representing the position of the element in the list\n",
    "\n",
    "Indexing in Python starts from cero. For example:"
   ]
  },
  {
   "cell_type": "code",
   "execution_count": 85,
   "metadata": {},
   "outputs": [
    {
     "name": "stdout",
     "output_type": "stream",
     "text": [
      "1, 2, 5, 5\n"
     ]
    }
   ],
   "source": [
    "my_list = [1, 2, 3, 4, 5]\n",
    "first_element = my_list[0]  # Returns 1\n",
    "second_element = my_list[1]  # Returns 2\n",
    "last_element_v1 = my_list[4] # Returns 5\n",
    "last_element_v2 = my_list[-1]  # Returns 5\n",
    "\n",
    "print(first_element, second_element, last_element_v1 , last_element_v2 , sep = \", \")"
   ]
  },
  {
   "cell_type": "markdown",
   "metadata": {},
   "source": [
    "To access a range of elements in a list in Python, you can use the technique called \"slicing\". Slicing allows you to specify a range of indices to obtain a portion of the list. \n",
    "\n",
    "The basic Sintax for slicing is `[star, stop]`"
   ]
  },
  {
   "cell_type": "code",
   "execution_count": 87,
   "metadata": {},
   "outputs": [
    {
     "name": "stdout",
     "output_type": "stream",
     "text": [
      "[1, 2, 3]\n",
      "[3, 4, 5, 6]\n",
      "[8, 9, 10]\n"
     ]
    }
   ],
   "source": [
    "extended_list = [1, 2, 3, 4, 5, 6, 7, 8, 9, 10]\n",
    "\n",
    "# Get the first three elements\n",
    "first_three = extended_list[0:3]  # Equivalent to my_list[:3]\n",
    "print(first_three)  # Output: [1, 2, 3]\n",
    "\n",
    "# Get elements from index 2 to index 5\n",
    "range = extended_list[2:6]\n",
    "print(range)  # Output: [3, 4, 5, 6]\n",
    "\n",
    "# Get the last three elements\n",
    "last_three = extended_list[7:10]  # Equivalent to my_list[7:]\n",
    "print(last_three)  # Output: [8, 9, 10]\n"
   ]
  },
  {
   "cell_type": "markdown",
   "metadata": {},
   "source": [
    "You can also specify a third number in the slicing syntax to indicate the step, which is the number of elements to skip in each step. \n",
    "\n",
    "For example:"
   ]
  },
  {
   "cell_type": "code",
   "execution_count": 98,
   "metadata": {},
   "outputs": [
    {
     "name": "stdout",
     "output_type": "stream",
     "text": [
      "[1, 3, 5, 7, 9]\n",
      "[10, 9, 8, 7, 6, 5, 4, 3, 2, 1]\n"
     ]
    }
   ],
   "source": [
    "extended_list = [1, 2, 3, 4, 5, 6, 7, 8, 9, 10]\n",
    "\n",
    "# Get alternate elements\n",
    "alternate_elements = extended_list[::2]  # Equivalent to my_list[0:10:2]\n",
    "print(alternate_elements)  # Output: [1, 3, 5, 7, 9]"
   ]
  },
  {
   "cell_type": "markdown",
   "metadata": {},
   "source": [
    "you can reverse a list using slicing with a negative step."
   ]
  },
  {
   "cell_type": "code",
   "execution_count": 99,
   "metadata": {},
   "outputs": [
    {
     "name": "stdout",
     "output_type": "stream",
     "text": [
      "[10, 9, 8, 7, 6, 5, 4, 3, 2, 1]\n"
     ]
    }
   ],
   "source": [
    "# Reverse the list\n",
    "reversed_list = extended_list[::-1]\n",
    "print(reversed_list)  # Output: [10, 9, 8, 7, 6, 5, 4, 3, 2, 1]"
   ]
  },
  {
   "cell_type": "markdown",
   "metadata": {},
   "source": [
    "In simpler terms, **[::-1]** tells Python to create a new list that includes all elements of the original list, but in reverse order."
   ]
  },
  {
   "cell_type": "markdown",
   "metadata": {},
   "source": [
    "You can also achieve the same result by using the  `reverse` method, which modifies the list in place without creating one."
   ]
  },
  {
   "cell_type": "markdown",
   "metadata": {},
   "source": [
    " ### Subsetting lists of lists"
   ]
  },
  {
   "cell_type": "markdown",
   "metadata": {},
   "source": [
    "Subsetting lists of lists refers to accessing specific elements within nested lists, where the outer list contains one or more inner lists. In Python, you can think of a list of lists as a two-dimensional array or matrix. Subsetting allows you to access individual elements, rows, columns, or sub-matrices within this structure."
   ]
  },
  {
   "cell_type": "code",
   "execution_count": 102,
   "metadata": {},
   "outputs": [],
   "source": [
    "my_matrix = [\n",
    "    [1, 2, 3],\n",
    "    [4, 5, 6],\n",
    "    [7, 8, 9] ]\n"
   ]
  },
  {
   "cell_type": "markdown",
   "metadata": {},
   "source": [
    "**Accessing individual elements**\n",
    "\n",
    "To access individual elements within the matrix, you can use double indexing:"
   ]
  },
  {
   "cell_type": "code",
   "execution_count": 109,
   "metadata": {},
   "outputs": [
    {
     "name": "stdout",
     "output_type": "stream",
     "text": [
      "1\n",
      "6\n",
      "8\n"
     ]
    }
   ],
   "source": [
    "element = my_matrix[0][0]  # Accesses the element in the first row and first column\n",
    "print(element)  # Output: 1\n",
    "\n",
    "element = my_matrix[1][2]  # Accesses the element in the second row and third column\n",
    "print(element)  # Output: 6\n",
    "\n",
    "element = my_matrix[2][1]  # Accesses the element in the third row and second column\n",
    "print(element)  # Output: 8\n"
   ]
  },
  {
   "cell_type": "markdown",
   "metadata": {},
   "source": [
    "**Accessing entire rows or columns**\n",
    "\n",
    "You can also subset entire rows or columns by omitting one of the indices:\n"
   ]
  },
  {
   "cell_type": "code",
   "execution_count": 115,
   "metadata": {},
   "outputs": [
    {
     "name": "stdout",
     "output_type": "stream",
     "text": [
      "[1, 2, 3]\n",
      "[1, 4, 7]\n"
     ]
    }
   ],
   "source": [
    "row = my_matrix[0]  # Accesses the entire first row\n",
    "print(row)  # Output: [1, 2, 3]\n",
    "\n",
    "column = [row[0] for row in my_matrix]  # Extracts the first column\n",
    "print(column)  # Output: [1, 4, 7]\n"
   ]
  },
  {
   "cell_type": "markdown",
   "metadata": {},
   "source": [
    "**Accessing sub-matrices** \n",
    "\n",
    "You can subset a sub-matrix by specifying a range of indices for both dimensions:"
   ]
  },
  {
   "cell_type": "code",
   "execution_count": 144,
   "metadata": {},
   "outputs": [
    {
     "name": "stdout",
     "output_type": "stream",
     "text": [
      "[[2, 3], [5, 6]]\n"
     ]
    }
   ],
   "source": [
    "sub_matrix = [row[1:] for row in my_matrix[:2]]  # Extracts the sub-matrix excluding the first column and the last row\n",
    "print(sub_matrix)  # Output: [[2, 3], [5, 6]]\n"
   ]
  },
  {
   "attachments": {
    "image.png": {
     "image/png": "[encoded data removed]"
    }
   },
   "cell_type": "markdown",
   "metadata": {},
   "source": [
    "![image.png](attachment:image.png)"
   ]
  },
  {
   "cell_type": "markdown",
   "metadata": {},
   "source": [
    "Another example:"
   ]
  },
  {
   "cell_type": "code",
   "execution_count": 165,
   "metadata": {},
   "outputs": [],
   "source": [
    "extended_matrix = [\n",
    "    [1, 2, 3, 4, 5] , \n",
    "    [6, 7, 8, 9, 10] , \n",
    "    [11, 12, 13, 14, 15], \n",
    "    [16, 17, 18, 19, 20], \n",
    "    [21, 22, 23, 24, 25]\n",
    "    ]"
   ]
  },
  {
   "cell_type": "code",
   "execution_count": 185,
   "metadata": {},
   "outputs": [
    {
     "name": "stdout",
     "output_type": "stream",
     "text": [
      "[[5], [10], [15], [20], [25]]\n"
     ]
    }
   ],
   "source": [
    "extended_sub_matrix = [row[4:5] for row in extended_matrix[0:5]]\n",
    "print(extended_sub_matrix)"
   ]
  }
 ],
 "metadata": {
  "kernelspec": {
   "display_name": "Python 3 (ipykernel)",
   "language": "python",
   "name": "python3"
  },
  "language_info": {
   "codemirror_mode": {
    "name": "ipython",
    "version": 3
   },
   "file_extension": ".py",
   "mimetype": "text/x-python",
   "name": "python",
   "nbconvert_exporter": "python",
   "pygments_lexer": "ipython3",
   "version": "3.11.5"
  }
 },
 "nbformat": 4,
 "nbformat_minor": 2
}
