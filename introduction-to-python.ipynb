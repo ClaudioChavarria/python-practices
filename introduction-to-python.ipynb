{
 "cells": [
  {
   "cell_type": "markdown",
   "metadata": {},
   "source": [
    "# INTRODUCTION TO PYTHON"
   ]
  },
  {
   "cell_type": "markdown",
   "metadata": {},
   "source": [
    "## What is Python?\n",
    "\n",
    "Python is a high-level programming language known for its simplicity and readability. It was created by Guido van Rossum and first released in 1991. \n",
    "\n",
    "Python supports multiple programming paradigms, including procedural, object-oriented, and functional programming styles. It has a comprehensive standard library that provides support for various tasks such as string processing, networking, web development, and more.\n",
    "\n",
    "In **data science**, Python is one of the most popular programming languages due to its versatility, simplicity, and the vast ecosystem of libraries and tools available for data manipulation, analysis, and visualization."
   ]
  },
  {
   "cell_type": "markdown",
   "metadata": {},
   "source": [
    "## print() function\n",
    "The **print()** function in Python is used to display information in the standard output, which is typically the console or terminal where the program is running. \n",
    "The **print()** function is a useful tool for debugging, displaying results, and providing information to users while a program is running in Python."
   ]
  },
  {
   "cell_type": "markdown",
   "metadata": {},
   "source": [
    "### Basic Usage: \n",
    "You can use print() to display text, numbers, or other data types in the console."
   ]
  },
  {
   "cell_type": "code",
   "execution_count": 1,
   "metadata": {},
   "outputs": [
    {
     "name": "stdout",
     "output_type": "stream",
     "text": [
      "Hello, World\n"
     ]
    }
   ],
   "source": [
    "print(\"Hello, World\")"
   ]
  },
  {
   "cell_type": "markdown",
   "metadata": {},
   "source": [
    "### Printing Multiple Values: \n",
    "You can print multiple values separated by commas."
   ]
  },
  {
   "cell_type": "code",
   "execution_count": 2,
   "metadata": {},
   "outputs": [
    {
     "name": "stdout",
     "output_type": "stream",
     "text": [
      "Name:  Claudio , Last name:  Chavarria\n",
      "Name: Claudio Age: 25\n"
     ]
    }
   ],
   "source": [
    "# Example 1\n",
    "print(\"Name: \", \"Claudio\", \", Last name: \", \"Chavarria\" )\n",
    "# Example 2\n",
    "name = \"Claudio\"\n",
    "age = 25\n",
    "print(\"Name:\", name, \"Age:\", age)\n"
   ]
  },
  {
   "cell_type": "markdown",
   "metadata": {},
   "source": [
    "### String Formatting: \n",
    "You can format the output using string formatting or f-strings (in Python 3.6 and later)."
   ]
  },
  {
   "cell_type": "code",
   "execution_count": 3,
   "metadata": {},
   "outputs": [
    {
     "name": "stdout",
     "output_type": "stream",
     "text": [
      "3.142\n",
      "3.1416\n",
      "3\n"
     ]
    }
   ],
   "source": [
    "# display pi using string formatting \n",
    "pi = 3.14159\n",
    "\n",
    "# Example 1: Display pi with three decimals\n",
    "print(\"{:.3f}\".format(pi))\n",
    "# Output: 3.142\n",
    "\n",
    "# Example 2: Display pi with four decimals\n",
    "print(\"{:.4f}\".format(pi))\n",
    "# Output: 3.1416\n",
    "\n",
    "# Example 4: Display pi with zero decimals\n",
    "print(\"{:.0f}\".format(pi))\n",
    "# Output: 3"
   ]
  },
  {
   "cell_type": "markdown",
   "metadata": {},
   "source": [
    "### In the print() function, the parameters are:\n",
    "\n",
    "#### print(object(s), sep=separator, end=end, file=file, flush=flush)\n",
    "\n",
    "\n",
    "**objects:** Represents the objects to be printed. You can pass one or more objects separated by commas.\n",
    "\n",
    "**sep:** Specifies the separator between the objects being printed. It's used to join the objects together when they are printed.\n",
    "\n",
    "**end:** Specifies what to print at the end. By default, end is set to '\\n', which means a newline character is printed at the end of the output.\n",
    "\n",
    "**file:** Specifies the file object where the output will be printed. By default, the output is printed to the console (sys.stdout).\n",
    "\n",
    "**flush:** Specifies whether the output buffer should be flushed."
   ]
  },
  {
   "cell_type": "markdown",
   "metadata": {},
   "source": [
    "### Separator and End Parameter: \n",
    "You can specify the separator between the elements to be printed and the end parameter at the end."
   ]
  },
  {
   "cell_type": "code",
   "execution_count": 4,
   "metadata": {},
   "outputs": [
    {
     "name": "stdout",
     "output_type": "stream",
     "text": [
      "Data, Science!\n"
     ]
    }
   ],
   "source": [
    "print(\"Data\", \"Science\", sep=\", \",  end=\"!\\n\" )\n",
    "\n",
    "# end=\"!\\n\": This is another optional parameter of the `print()` function. \n",
    "# It determines what will be printed at the end of the line. By default, \n",
    "# print() prints a new line (`\\n`) at the end of each call."
   ]
  },
  {
   "cell_type": "markdown",
   "metadata": {},
   "source": [
    "### Printing Without Newline: \n",
    "By default, print() adds a newline at the end. You can avoid this using the end parameter."
   ]
  },
  {
   "cell_type": "code",
   "execution_count": 5,
   "metadata": {},
   "outputs": [
    {
     "name": "stdout",
     "output_type": "stream",
     "text": [
      "Data Science\n"
     ]
    }
   ],
   "source": [
    "print(\"Data\", end=\" \")\n",
    "print(\"Science\")\n"
   ]
  },
  {
   "cell_type": "markdown",
   "metadata": {},
   "source": [
    "### File and flush parameters"
   ]
  },
  {
   "cell_type": "code",
   "execution_count": 6,
   "metadata": {},
   "outputs": [],
   "source": [
    "#Open a new file named \"output.txt\" in writing mode\n",
    "with open(\"output.txt\", \"w\") as f:\n",
    "#write the following text in the file \"output.txt\"    \n",
    "    print(\"Machine, Learning!\", file=f)\n"
   ]
  },
  {
   "cell_type": "code",
   "execution_count": 7,
   "metadata": {},
   "outputs": [
    {
     "name": "stdout",
     "output_type": "stream",
     "text": [
      "Statistic\n",
      "Learning\n"
     ]
    }
   ],
   "source": [
    "# The flush parameter controls whether the output buffer should be forced to be flushed after printing. \n",
    "# When flush is set to True, the output is flushed immediately after printing.\n",
    "print(\"Statistic\", flush=True)\n",
    "print(\"Learning\")\n"
   ]
  },
  {
   "cell_type": "code",
   "execution_count": 8,
   "metadata": {},
   "outputs": [
    {
     "name": "stdout",
     "output_type": "stream",
     "text": [
      "Machine\n",
      "Learning\n"
     ]
    }
   ],
   "source": [
    "import time\n",
    "\n",
    "print(\"Machine\", flush=True)\n",
    "time.sleep(2)  # Espera 2 segundos\n",
    "print(\"Learning\")"
   ]
  },
  {
   "cell_type": "markdown",
   "metadata": {},
   "source": [
    "## Basic Operations - Arithmetic\n",
    "In python , arithmetic operations include:\n",
    "\n",
    "**Addition (+):** It is an operation that adds two operands to obtain a result.\n",
    "\n",
    "**Subtraction (-):** It is an operation that subtracts the second operand from the first to obtain a result.\n",
    "\n",
    "**Multiplication (*):** It is an operation that multiplies two operands to obtain a result.\n",
    "\n",
    "**Division (/):** It is an operation that divides the first operand by the second to obtain a result.\n",
    "\n",
    "**Module (%):** It is an operation that returns the remainder of the division of the first operand by the second.\n",
    "\n",
    "**Exponentiation (**):** It is an operation that raises the first operand to the power of the second operand to obtain a result.\n",
    "\n",
    "**Floor Division (//):** It is an operation that divides the first operand by the second and returns the result as an integer, truncating any decimal part."
   ]
  },
  {
   "cell_type": "code",
   "execution_count": 18,
   "metadata": {},
   "outputs": [
    {
     "name": "stdout",
     "output_type": "stream",
     "text": [
      "Addition:  52.5\n",
      "Subtraction:  48.5\n",
      "Multiplication:  101.0\n",
      "Division: 25.25\n",
      "Modulo: 0.5\n",
      "Exponentiation: 2550.25\n",
      "Floor Division: 25.0\n"
     ]
    }
   ],
   "source": [
    "# Define two numbers\n",
    "a = 50.5\n",
    "b = 2\n",
    "# Addition\n",
    "addition = a + b\n",
    "print (\"Addition: \" , addition)\n",
    "# Subtraction\n",
    "Subtraction = a - b\n",
    "print (\"Subtraction: \" , Subtraction)\n",
    "# Multiplication\n",
    "Multiplication = a * b\n",
    "print (\"Multiplication: \" , Multiplication)\n",
    "# Division\n",
    "division = a / b\n",
    "print(\"Division:\", division)\n",
    "# Modulus\n",
    "modulo = a % b\n",
    "print(\"Modulo:\", modulo)\n",
    "# Exponentiation\n",
    "exponentiation = a ** b\n",
    "print(\"Exponentiation:\", exponentiation)\n",
    "floor_division = a // b\n",
    "print(\"Floor Division:\", floor_division)"
   ]
  }
 ],
 "metadata": {
  "kernelspec": {
   "display_name": "Python 3",
   "language": "python",
   "name": "python3"
  },
  "language_info": {
   "codemirror_mode": {
    "name": "ipython",
    "version": 3
   },
   "file_extension": ".py",
   "mimetype": "text/x-python",
   "name": "python",
   "nbconvert_exporter": "python",
   "pygments_lexer": "ipython3",
   "version": "3.11.5"
  }
 },
 "nbformat": 4,
 "nbformat_minor": 2
}
