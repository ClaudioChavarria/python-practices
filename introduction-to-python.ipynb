{
 "cells": [
  {
   "cell_type": "markdown",
   "metadata": {},
   "source": [
    "# INTRODUCTION TO PYTHON"
   ]
  },
  {
   "cell_type": "markdown",
   "metadata": {},
   "source": [
    "## What is Python?\n",
    "\n",
    "Python is a high-level programming language known for its simplicity and readability. It was created by Guido van Rossum and first released in 1991. \n",
    "\n",
    "Python supports multiple programming paradigms, including procedural, object-oriented, and functional programming styles. It has a comprehensive standard library that provides support for various tasks such as string processing, networking, web development, and more.\n",
    "\n",
    "In data science, Python is one of the most popular programming languages due to its versatility, simplicity, and the vast ecosystem of libraries and tools available for data manipulation, analysis, and visualization"
   ]
  }
 ],
 "metadata": {
  "language_info": {
   "name": "python"
  }
 },
 "nbformat": 4,
 "nbformat_minor": 2
}
